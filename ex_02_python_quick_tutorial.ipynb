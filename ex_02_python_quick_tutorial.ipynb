###一矩形截面管简支木梁,梁上作用均布荷载(图9-20)。已知 l=4 m,b=140 mm,h=210 mm，q=2kN/m;弯曲时木材的许用拉应力[o]=
6.4 MPa。试校核梁的强度，并求梁能承受的最大荷载。
l = float(input('请输入l的值，米为单位'))
b = float(input('请输入b的值，米为单位'))
q = float(input('请输入q的值，牛每米为单位'))
h = float(input('请输入h的值，米为单位'))
###许用应力用force表示
force = float(input('请输入force的值，pa为单位'))
###最大弯矩用Mmax表示
Mmax = 1/8*q*l**2
###弯曲截面系数用Wi表示
Wi = b*h**2/6
###实际最大正应力用force1表示
force1 = Mmax / Wi
if force<=force1:
    print('不符合强度要求')
else:
    print('符合强度要求')
