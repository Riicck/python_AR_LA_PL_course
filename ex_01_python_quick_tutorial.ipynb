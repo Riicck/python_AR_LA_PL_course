###print函数
print ('hello python!!!!!!!!!!')
print ('_'*50)
print ('''    へ　　　　　／|
　　/＼7　　　 ∠＿/
　 /　│　　 ／　／
　│　Z ＿,＜　／　　 /`ヽ
　│　　　　　ヽ　　 /　　〉
　 Y　　　　　`　 /　　/
　ｲ●　､　●　　⊂⊃〈　　/
　()　 へ　　　　|　＼〈
　　>ｰ ､_　 ィ　 │ ／／
　 / へ　　 /　ﾉ＜| ＼＼
　 ヽ_ﾉ　　(_／　 │／／
　　7　　　　　　　|／
　　＞―r￣￣`ｰ―＿''')



###运算
print (1-2)
print (8*8)
print(5/4)
print(66//5)
print(44**46)
print(8%5)


###变量赋值
love=5201314
print(love)

city_name="Shanghai"
coordinate_longitude=120.8
coordiante_latitude=31
print("The longitude of the Shanghai coordinate is {lon:.2f}, and the latitude is {lat}.".format(lon=coordinate_longitude,lat=coordiante_latitude))
###list
lst=list(range(1,20,2))
print(lst)
print("The list length={}".format(len(lst)))
print("Maximum value={}".format(max(lst)))
print("Minimum value={}".format(min(lst)))


###if 语句
historyscore=26
if historyscore>=60:
    print('你已经及格啦')
    if historyscore>=80:
        print('你很棒')
    else:
        print('一般般')
else:
    print('不及格')
    if historyscore>=30:
        print('还有救')
    else:
        print('学渣')
print('程序结束')

stonenumber=0
if stonenumber>5:
    print('你拥有了毁灭宇宙的力量')
elif 0<stonenumber<=5:
    print('绯红女巫需要亲手毁掉幻视额头上的心灵宝石')
else:
    print('需要惊奇队长逆转未来')
    
    
    
    ###并行迭代
###zip 拉链功能
lst_a=[0,1,2,3]
lst_b=['a','b','c','d']
zip_lst=zip(lst_a,lst_b)
print("zip_lst=zip(lst_a,lst_b)->{}".format(zip_lst))
print("dict(zip_lst)->{}".format(dict(zip_lst)))

zip_lst=zip(lst_a,lst_b)
for a,b in zip_lst:
    print(a,b)
    
zip_lst=zip(lst_a,lst_b)
a,b=zip(*zip_lst)
print("a={},b={}".format(a,b))
###while循环
x=9
while x<=999:
    print("x={}".format(x))
    x+=55  
    
    
    
    ###分片
lsts=list(map(chr,range(20,50)))
print(lsts)
print('_'*66)
print("[3:6]->{}".format(lsts[4:11]))
print("[-3:-1]->{}".format(lsts[-18:-1]))
print("[-3:]->{}".format(lsts[-3:]))
print("[:3]->{}".format(lsts[:15]))
print("[:]->{}".format(lsts[:]))
###带分片的list
lstabs=list(map(chr,range(10,22)))
print(lstabs)
print("_"*50)
print("[0:10:2]->{}".format(lstabs[0:8:3]))
print("[::3]->{}".format(lstabs[::1]))
print("[9:3:-2]->{}".format(lstabs[10:3:-2]))
print("[20:3:-2]->{}".format(lstabs[10000000000000000000000000000000000000000000:3:-2]))
print("[7::-2]->{}".format(lstabs[7::-2]))



###元组
tuple=1,22,99,250,8888,
type(tuple)
print(tuple)


###字典dict
dict{1:1,2:15220,3:'苹果',4:'banana',5：'8888'}
print(dict)


###string 字符串~~~~~~~~~·
###字符串就是引号下的字符，str形式 作为Python数据格式的一种
print('我爱建大')
print('~'*55)
print(int('88'))



###字符串转换
format_str="Hello,%s and %s!"
values=("舒克","贝塔")
new_str=format_str % values
print("new_str=format_str % values->{}".format(new_str))


###for语句
print('+'*66)
lst1=list(range(20,30,2))
print(lst1)
for i in lst1:
    print(i)
