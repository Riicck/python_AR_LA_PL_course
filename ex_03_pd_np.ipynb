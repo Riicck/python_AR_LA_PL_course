###pandas作为数据分析的工具 可以协同python一起进行数据分析 
###pandas可读取csv tsv txt excel mysql格式的二维化表格文件
###用pandas读取一下python课的表格名单
import pandas as pd
fpath = "Python分组名单.xls"
pvuv = pd.read_excel(fpath)
pvuv
###pandas数据结构分成两种 一种是一维的series（代表一列或一行） 还有一种是二维的 columns(查询列)index（查询行）
import pandas as pd
sl=pd.Series([1,"apple",222,8,"orange"])
sl.index
###(获取索引)
sl.values
###（获取数据）

import pandas as pd
from pandas import Series,DataFrame

cols=['apple','banana','ccc','ddd','eeee','good','hello','qq','vx','addition','ticket1']
obj=Series(cols)
print(obj)

###字典和pandas
{'lat': 34.255806, 'lng': 108.926351, 'price': 100.0, 'overallrating': 4.6, 'servicerating': 4.6, 'facilityrating': 4.5, 'hygienerating': 4.8, 'imagenum': 35.0, 'commentnum': 22.0, 'favoritenum': 0.0, 'checkinnum': 0.0}
hotel_poiBunch=value
dic=dict(zip(cols,hotel_poiBunch.data[40].tolist()))
print(dic)
obj4=Series(dic)
print("_"*50)
print(obj4)

###用字典创建dataframe

data={'state':['Ohino','Ohino','Ohino','Nevada','Nevada'],
      "year":[2000,2001,2002,2003,2002],
      "pop":[1.5,1.7,3.6,2.4,2.9]
     }
df = pd.DataFrame(data)

###查询索引
df.columns
###从dataframe中查询出series
#用中括号字符串可以查询出一列
#如
df['year']
###查询多列以后是dataframe的文件出来
type(df[['year','pop']])
###查询一行 结果是pd.Series
df.loc[1]

###Numpy的学习

###numpy能提供特殊的数组对象 可以表示一维数组 二维矩阵 多维数据
###numpy的所有计算都是围绕数组进行的

import numpy as np
np.array([1,2,3,4,5])

###还可以创建空白数组
np.zeros((3,2))
###linspace运算取等间距的数
import numpy as np
np.linspace(0,1,5)
a=np.array([111,222,333])
b=np.array([444,555,666])
a*b
###进行向量积运算
a=np.array([111,222,333])
b=np.array([444,555,666])
np.dot(a,b)
###进行矩阵乘法运算
a=np.array([[1,2],
          [3,4]])
b=np.array([[2,4],
          [1,1]])
a@b
###广播运算操作

a=np.array([1,2,3])
a*9.9
###numpy种子的运用
import numpy as np
num=0
print('随机种子仅一次有效,因此随机结果因时间差异而不同\t')
while(num<5):
    print(np.random.random())
    num+=2
print('为了获取相同的随机数结果，每次均需要调用seed种子\t')
while(num<20):
    np.random.seed(53535) 
    print(np.random.random())
    num+=1
import numpy as np
import matplotlib.pyplot as plt
from mpl_toolkits.mplot3d import Axes3D

np.random.seed(555)  #固定随机状态，确保每次运行后输出结果相同

points=np.random.random((5,18,4)) #rank为3的的多维数组，即3轴，0轴第1个维度长度为5，1轴第2个维度长度为18，2轴第3个维度长度为4。
#print(points)
#points[1,:,2]+=1  #0轴索引值为1项，1轴全部，2轴索引值为2项的值均加1.
fig = plt.figure()
ax = fig.add_subplot(111, projection='3d')
colors=('4','5','6','7','8','9','555','250')
markers=('o','^','+','*','v','x','_','.')

for i in range(points.shape[0]):  #循环0轴
    #print(points.reshape(-1,3),points)
    #print(points[i,:,0],points[i,:,1],points[i,:,2])
    #print(points[i])
    ax.scatter(points[i,:,0],points[i,:,1],points[i,:,2], c=points[i], marker=markers[i])
    
ax.set_xlabel('X coordi')
ax.set_ylabel('Y coordi')
ax.set_zlabel('Z coordi')
fig.set_figheight(10)
fig.set_figwidth(3)
plt.show()

###取第一行所有列的元素
a= np.array([[111,222,333],
           [444,555,666]])
a[0,:] ###取第一行所有列的元素

###数组的切片
import numpy as np
a=np.arange(1,13).reshape((3,4)) ###转换成三行四列
print(a)
sub_a=a[:2,:2]###获取前两行前两列
print(sub_a)

###数组的复制
#深复制 copy方法 复制与被复制不存在关联
sub_aa=np.copy(a[:2,:2])
print(sub_aa)
print(a)

###简单赋值 复制与被复制关联
print("sub_aa->{}".format(sub_aa))
print("_"*60)
sub_aa=a
print("a->{}".format(a))
print("_"*60)
print("sub_aa is a->{}".format(sub_aa is a))
print("_"*60)



